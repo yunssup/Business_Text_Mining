{
 "cells": [
  {
   "cell_type": "code",
   "execution_count": 1,
   "id": "425c2b5c-e4d4-46f3-8b1e-42e1192c2667",
   "metadata": {},
   "outputs": [
    {
     "data": {
      "text/plain": [
       "True"
      ]
     },
     "execution_count": 1,
     "metadata": {},
     "output_type": "execute_result"
    }
   ],
   "source": [
    "\"phone\" in \"Is the phone here?\""
   ]
  },
  {
   "cell_type": "code",
   "execution_count": 4,
   "id": "1d5218d5-c894-4b34-bc75-95e040fc87cb",
   "metadata": {},
   "outputs": [
    {
     "data": {
      "text/plain": [
       "True"
      ]
     },
     "execution_count": 4,
     "metadata": {},
     "output_type": "execute_result"
    }
   ],
   "source": [
    "\"765-464-9593\" in \"My phone number is 765-464-9593\""
   ]
  },
  {
   "cell_type": "code",
   "execution_count": 4,
   "id": "bb2a279e-5a6f-4342-80f8-7f1dcdbde1c4",
   "metadata": {},
   "outputs": [],
   "source": [
    "import re\n",
    "# re : regular expression"
   ]
  },
  {
   "cell_type": "code",
   "execution_count": 16,
   "id": "b7ff9757-8222-4593-b85f-3dbb5f21afc1",
   "metadata": {},
   "outputs": [],
   "source": [
    "pattern = 'phone'\n",
    "text = \"Is the phone here?\""
   ]
  },
  {
   "cell_type": "code",
   "execution_count": 22,
   "id": "4521b07d-ca59-40b7-a5a9-d8b1bafa7c56",
   "metadata": {},
   "outputs": [
    {
     "data": {
      "text/plain": [
       "<re.Match object; span=(7, 12), match='phone'>"
      ]
     },
     "execution_count": 22,
     "metadata": {},
     "output_type": "execute_result"
    }
   ],
   "source": [
    "re.search(pattern, text)\n",
    "\n",
    "#span 카운트는 0부터 시작\n",
    "# . 뒤에 오는 것은 method"
   ]
  },
  {
   "cell_type": "code",
   "execution_count": 23,
   "id": "1b0c9bb3-ab83-40df-844c-3ebbda6d22e3",
   "metadata": {},
   "outputs": [],
   "source": [
    "pattern = 'phone'\n",
    "text2 = \"My phone is a new phone\""
   ]
  },
  {
   "cell_type": "code",
   "execution_count": 27,
   "id": "4b7c1043-89f1-4ff8-b821-20cee3bbe3a9",
   "metadata": {},
   "outputs": [
    {
     "data": {
      "text/plain": [
       "<re.Match object; span=(3, 8), match='phone'>"
      ]
     },
     "execution_count": 27,
     "metadata": {},
     "output_type": "execute_result"
    }
   ],
   "source": [
    "match = re.search (pattern, text2)\n",
    "match\n",
    "# re.search와 match 사용하는 것은 무슨 차이??"
   ]
  },
  {
   "cell_type": "code",
   "execution_count": 28,
   "id": "b9cecb9c-401e-49e6-b381-ae66db74092a",
   "metadata": {},
   "outputs": [
    {
     "data": {
      "text/plain": [
       "['phone', 'phone']"
      ]
     },
     "execution_count": 28,
     "metadata": {},
     "output_type": "execute_result"
    }
   ],
   "source": [
    "matches = re.findall (pattern, text2)\n",
    "matches"
   ]
  },
  {
   "cell_type": "code",
   "execution_count": 30,
   "id": "7490d13c-b500-4a3c-a3df-4c1e78d6e614",
   "metadata": {},
   "outputs": [],
   "source": [
    "text = \"My phone number is 765-464-9593\"\n",
    "pattern = \"765-464-9593\""
   ]
  },
  {
   "cell_type": "code",
   "execution_count": 32,
   "id": "c99da6ae-764f-4aa2-85df-466cb6aac25b",
   "metadata": {},
   "outputs": [
    {
     "data": {
      "text/plain": [
       "['765-464-9593']"
      ]
     },
     "execution_count": 32,
     "metadata": {},
     "output_type": "execute_result"
    }
   ],
   "source": [
    "match = re.findall(pattern, text)\n",
    "match"
   ]
  },
  {
   "cell_type": "code",
   "execution_count": 42,
   "id": "3651f63b-3d38-4d24-b1b9-2d454f4eeace",
   "metadata": {},
   "outputs": [
    {
     "data": {
      "text/plain": [
       "[]"
      ]
     },
     "execution_count": 42,
     "metadata": {},
     "output_type": "execute_result"
    }
   ],
   "source": [
    "text = \"My phone number is 765-464-9593\"\n",
    "pattern = \"\\d{3}-\\d{4}-\\d{4}\"\n",
    "# \\d : digit\n",
    "\n",
    "matches = re.findall(pattern, text)\n",
    "matches"
   ]
  },
  {
   "cell_type": "code",
   "execution_count": 46,
   "id": "8f51fbd5-4a2c-4693-b606-c114bae8cc79",
   "metadata": {},
   "outputs": [],
   "source": [
    "text = \"\"\"Elephant comprises various species.\n",
    "incluing the African forest elephant and the Asian elephant\n",
    "\"\"\"\n",
    "# 왜 여기서 \"를 3개나 치는거지?"
   ]
  },
  {
   "cell_type": "code",
   "execution_count": 47,
   "id": "7284400e-0de0-4efc-b69e-83e638fc9cbc",
   "metadata": {},
   "outputs": [
    {
     "data": {
      "text/plain": [
       "['Elephant', 'elephant', 'elephant']"
      ]
     },
     "execution_count": 47,
     "metadata": {},
     "output_type": "execute_result"
    }
   ],
   "source": [
    "pattern = \"[eE]lephant\"\n",
    "matches = re.findall(pattern, text)\n",
    "matches"
   ]
  },
  {
   "cell_type": "code",
   "execution_count": 51,
   "id": "1a43ec26-727f-43ad-a75a-a678ba2eb89c",
   "metadata": {},
   "outputs": [
    {
     "data": {
      "text/plain": [
       "['99', '108']"
      ]
     },
     "execution_count": 51,
     "metadata": {},
     "output_type": "execute_result"
    }
   ],
   "source": [
    "text = \"I ate 99 slices of pizza and 108 cookies\"\n",
    "pattern = \"[0-9]+\"\n",
    "matches = re.findall(pattern, text)\n",
    "matches"
   ]
  },
  {
   "cell_type": "code",
   "execution_count": 55,
   "id": "e255d26a-5991-43bd-b7b1-9497ebf45c88",
   "metadata": {},
   "outputs": [
    {
     "data": {
      "text/plain": [
       "[]"
      ]
     },
     "execution_count": 55,
     "metadata": {},
     "output_type": "execute_result"
    }
   ],
   "source": [
    "text = \"woodchuck is also called as grounghog\"\n",
    "pattern = \"woodchuck,grounghog\"\n",
    "matches = re.findall(pattern, text)\n",
    "matches"
   ]
  },
  {
   "cell_type": "code",
   "execution_count": 62,
   "id": "0ac49f9f-9c75-419a-9f0d-d0ff41dd35bc",
   "metadata": {},
   "outputs": [
    {
     "data": {
      "text/plain": [
       "['there are ', ' numbers ', ' inside ', ' this sentence']"
      ]
     },
     "execution_count": 62,
     "metadata": {},
     "output_type": "execute_result"
    }
   ],
   "source": [
    "text = \"there are 3 numbers 34 inside 5 this sentence\"\n",
    "pattern = \"[^\\d+]+\"\n",
    "matches = re.findall(pattern, text)\n",
    "matches"
   ]
  },
  {
   "cell_type": "code",
   "execution_count": 67,
   "id": "617da051-7769-4dd3-911c-5e8483ade8d8",
   "metadata": {},
   "outputs": [
    {
     "data": {
      "text/plain": [
       "['this is a string', ' But it has punctuation', ' How can we remove it']"
      ]
     },
     "execution_count": 67,
     "metadata": {},
     "output_type": "execute_result"
    }
   ],
   "source": [
    "text = \"this is a string! But it has punctuation. How can we remove it?\"\n",
    "pattern=\"[^!.?]+\"\n",
    "matches = re.findall(pattern, text)\n",
    "matches\n",
    "\n",
    "# +의 의미가 그 다음 어절?의 단위를 끊는건가?? >> ㅇㅇ 맞음"
   ]
  },
  {
   "cell_type": "code",
   "execution_count": 71,
   "id": "40a573fa-d4b3-429b-911b-7b84ff61e601",
   "metadata": {},
   "outputs": [
    {
     "data": {
      "text/plain": [
       "['began', 'begin', 'begun']"
      ]
     },
     "execution_count": 71,
     "metadata": {},
     "output_type": "execute_result"
    }
   ],
   "source": [
    "text = \"she decided to being her journey. and she began to realize that the begin begun \"\n",
    "pattern = \"beg\\wn\"\n",
    "matches = re.findall(pattern, text)\n",
    "matches"
   ]
  },
  {
   "cell_type": "code",
   "execution_count": 6,
   "id": "bcbe1c0b-932c-4ee5-8ccd-6ee715d01733",
   "metadata": {},
   "outputs": [
    {
     "data": {
      "text/plain": [
       "['at', 'cat', 'hat', 'that', 'sat', 'splat', 'clat']"
      ]
     },
     "execution_count": 6,
     "metadata": {},
     "output_type": "execute_result"
    }
   ],
   "source": [
    "text = \"Look at the cat in the hat that sat splat clat\"\n",
    "pattern = \"\\S*at\"\n",
    "matches = re.findall(pattern, text)\n",
    "matches"
   ]
  },
  {
   "cell_type": "code",
   "execution_count": 7,
   "id": "30bd50cb-7615-48f9-8737-95fbdc79f7de",
   "metadata": {},
   "outputs": [],
   "source": [
    "text = \"Elephant has madnyn elephants, including African elephant and Asian Elephants\""
   ]
  },
  {
   "cell_type": "code",
   "execution_count": 8,
   "id": "371f13f2",
   "metadata": {},
   "outputs": [],
   "source": [
    "import re"
   ]
  },
  {
   "cell_type": "code",
   "execution_count": 10,
   "id": "b4d7a7ee",
   "metadata": {},
   "outputs": [
    {
     "data": {
      "text/plain": [
       "['Elephant', 'elephants', 'elephant', 'Elephants']"
      ]
     },
     "execution_count": 10,
     "metadata": {},
     "output_type": "execute_result"
    }
   ],
   "source": [
    "pattern = \"[eE]lephants?\"\n",
    "matches = re.findall(pattern, text)\n",
    "matches"
   ]
  },
  {
   "cell_type": "code",
   "execution_count": 12,
   "id": "5f24dc21",
   "metadata": {},
   "outputs": [
    {
     "data": {
      "text/plain": [
       "['Elephant', 'elephants', 'elephant', 'Elephants']"
      ]
     },
     "execution_count": 12,
     "metadata": {},
     "output_type": "execute_result"
    }
   ],
   "source": [
    "matches = re.findall(\"[eE]lephants?\", text)\n",
    "matches"
   ]
  },
  {
   "cell_type": "code",
   "execution_count": 16,
   "id": "bd0b4692",
   "metadata": {},
   "outputs": [
    {
     "data": {
      "text/plain": [
       "['at', 'cat', 'that', 'sat', 'splat']"
      ]
     },
     "execution_count": 16,
     "metadata": {},
     "output_type": "execute_result"
    }
   ],
   "source": [
    "text =\"look at the cat that sat splat\"\n",
    "matches = re.findall(\"\\S*at\",text)\n",
    "matches\n",
    "# \\S는 \"공백이 아닌 문자\""
   ]
  },
  {
   "cell_type": "code",
   "execution_count": 19,
   "id": "e3f5e3f4",
   "metadata": {},
   "outputs": [
    {
     "data": {
      "text/plain": [
       "['there are ', ' numbers ', ' inside ', ' this sentence']"
      ]
     },
     "execution_count": 19,
     "metadata": {},
     "output_type": "execute_result"
    }
   ],
   "source": [
    "text = \"there are 3 numbers 45 inside 5 this sentence\"\n",
    "matches = re.findall(\"[^\\d+]+\",text)\n",
    "matches\n",
    "# [^\\d+]는 \"숫자가 아닌 문자 또는 문자의 연속\". ^는 부정, \\d는 숫자. 따라서 [^\\d+]는 숫자가 아닌 문자를 찾아내며, +는 이러한 문자들이 하나 이상 연속되는 것을 나타냄\n",
    "# [^\\d+]는 숫자가 아닌 문자열을 찾아내는 것"
   ]
  },
  {
   "cell_type": "code",
   "execution_count": 21,
   "id": "e3cc25d8",
   "metadata": {},
   "outputs": [
    {
     "data": {
      "text/plain": [
       "'there are  numbers  inside  this sentence'"
      ]
     },
     "execution_count": 21,
     "metadata": {},
     "output_type": "execute_result"
    }
   ],
   "source": [
    "text=re.sub(\"\\d+\", \"\", text)\n",
    "text\n",
    "# re.sub(pattern, replacement, string): 문자열에서 패턴에 해당하는 부분을 대체 문자열로 바꿈.\n",
    "#pattern은 찾을 패턴을 나타내고, replacement는 대체할 문자열을 나타냅니다. string은 대상 문자열입니다.\n",
    "# 해당 코드에서는 숫자 부분을 찾아 내고 해당 숫자 패턴을 공백으로 바꾼다."
   ]
  },
  {
   "cell_type": "code",
   "execution_count": 23,
   "id": "4ec5a091",
   "metadata": {},
   "outputs": [
    {
     "data": {
      "text/plain": [
       "'there are  numbers  inside  this sentence'"
      ]
     },
     "execution_count": 23,
     "metadata": {},
     "output_type": "execute_result"
    }
   ],
   "source": [
    "text=re.sub(\"[^a-zA-Z\\s]\", \"\", text)\n",
    "text\n",
    "# 영문 알파벳과 공백을 제외한 모든 문자를 제거하는데 사용\n",
    "# \\s는 공백 문자를 나타냄"
   ]
  },
  {
   "cell_type": "code",
   "execution_count": 24,
   "id": "6ce218af",
   "metadata": {},
   "outputs": [],
   "source": [
    "text2= \"This is a string! but it has punctutations. How to remove?\""
   ]
  },
  {
   "cell_type": "code",
   "execution_count": 28,
   "id": "d559146d",
   "metadata": {},
   "outputs": [
    {
     "data": {
      "text/plain": [
       "'This is a string but it has punctutations How to remove'"
      ]
     },
     "execution_count": 28,
     "metadata": {},
     "output_type": "execute_result"
    }
   ],
   "source": [
    "text2=re.sub(\"[^a-zA-Z\\s]\", \"\", text2)\n",
    "text2\n",
    "# 영문 알파벳과 공백을 제외한 모든 문자를 제거하는데 사용"
   ]
  },
  {
   "cell_type": "code",
   "execution_count": 30,
   "id": "200b439e",
   "metadata": {},
   "outputs": [
    {
     "data": {
      "text/plain": [
       "'This  is a string but it has  punctutations How to  remove'"
      ]
     },
     "execution_count": 30,
     "metadata": {},
     "output_type": "execute_result"
    }
   ],
   "source": [
    "text3 = \"This 108 is a string! but it has 45 punctutations. How to 2 remove?\"\n",
    "text3_cleand=re.sub(\"[^a-zA-Z\\s]\", \"\", text3)\n",
    "text3_cleand"
   ]
  },
  {
   "cell_type": "code",
   "execution_count": 36,
   "id": "dc8e47ad",
   "metadata": {},
   "outputs": [
    {
     "data": {
      "text/plain": [
       "'This  is a string but it has  punctutations. How to  remove'"
      ]
     },
     "execution_count": 36,
     "metadata": {},
     "output_type": "execute_result"
    }
   ],
   "source": [
    "text3_a  = re.sub(\"\\d+\", \"\", text3)\n",
    "text3_a\n",
    "\n"
   ]
  },
  {
   "cell_type": "code",
   "execution_count": 57,
   "id": "a2e2c4f0",
   "metadata": {},
   "outputs": [
    {
     "data": {
      "text/plain": [
       "'This  is a string but it has  punctutations. How to  remove'"
      ]
     },
     "execution_count": 57,
     "metadata": {},
     "output_type": "execute_result"
    }
   ],
   "source": [
    "text3_b = re.sub(\"[!,?]\", \"\", text3_a)\n",
    "text3_b"
   ]
  },
  {
   "cell_type": "markdown",
   "id": "49fda26a",
   "metadata": {},
   "source": [
    "---\n",
    "# <font color = blue> Quiz </font>\n",
    "\n",
    "Clean the string given below.\n",
    "\n",
    "string = \"This is reoccurring 99 issue with you. \\n\\n <br>\n",
    "We either have missing items which we don’t report 108 or the product is not in good condition.<br>\n",
    "Please refund me!!! :( \"\n",
    "\n",
    "* **Hint.** lowercase: string = string.lower()"
   ]
  },
  {
   "cell_type": "code",
   "execution_count": 56,
   "id": "05f1cd1d",
   "metadata": {},
   "outputs": [],
   "source": [
    "string = \"This is reoccurring 99 issue with you. \\n\\n We either have missing items which we don’t report 108 or the product is not in good condition. Please refund me!!! :(\""
   ]
  },
  {
   "cell_type": "code",
   "execution_count": 49,
   "id": "80523398",
   "metadata": {},
   "outputs": [
    {
     "data": {
      "text/plain": [
       "'this is reoccurring  issue with you \\n\\n we either have missing items which we dont report  or the product is not in good condition please refund me '"
      ]
     },
     "execution_count": 49,
     "metadata": {},
     "output_type": "execute_result"
    }
   ],
   "source": [
    "string = string.lower()\n",
    "string\n",
    "\n",
    "string_clened1=re.sub(\"[^a-zA-Z\\s]\", \"\", string)\n",
    "string_clened1\n",
    "# 1차로 문자와 공백 제외하고 지움"
   ]
  },
  {
   "cell_type": "code",
   "execution_count": 59,
   "id": "12391333",
   "metadata": {},
   "outputs": [
    {
     "data": {
      "text/plain": [
       "'this is reoccurring  issue with you  we either have missing items which we dont report  or the product is not in good condition please refund me '"
      ]
     },
     "execution_count": 59,
     "metadata": {},
     "output_type": "execute_result"
    }
   ],
   "source": [
    "string_clened2=re.sub(\"[\\n]\", \"\", string_clened1)\n",
    "string_clened2\n",
    "# 2차로 \\n에 대한 문자를 지움"
   ]
  },
  {
   "cell_type": "code",
   "execution_count": null,
   "id": "b7184fd6",
   "metadata": {},
   "outputs": [],
   "source": []
  },
  {
   "cell_type": "code",
   "execution_count": null,
   "id": "8b4f0554",
   "metadata": {},
   "outputs": [],
   "source": []
  }
 ],
 "metadata": {
  "kernelspec": {
   "display_name": "Python 3 (ipykernel)",
   "language": "python",
   "name": "python3"
  },
  "language_info": {
   "codemirror_mode": {
    "name": "ipython",
    "version": 3
   },
   "file_extension": ".py",
   "mimetype": "text/x-python",
   "name": "python",
   "nbconvert_exporter": "python",
   "pygments_lexer": "ipython3",
   "version": "3.11.4"
  }
 },
 "nbformat": 4,
 "nbformat_minor": 5
}

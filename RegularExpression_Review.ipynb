{
  "nbformat": 4,
  "nbformat_minor": 0,
  "metadata": {
    "colab": {
      "provenance": [],
      "authorship_tag": "ABX9TyOF6ehhrKVGB38Vb58jsnhD",
      "include_colab_link": true
    },
    "kernelspec": {
      "name": "python3",
      "display_name": "Python 3"
    },
    "language_info": {
      "name": "python"
    }
  },
  "cells": [
    {
      "cell_type": "markdown",
      "metadata": {
        "id": "view-in-github",
        "colab_type": "text"
      },
      "source": [
        "<a href=\"https://colab.research.google.com/github/yunssup/Business_Text_Mining/blob/main/RegularExpression_Review.ipynb\" target=\"_parent\"><img src=\"https://colab.research.google.com/assets/colab-badge.svg\" alt=\"Open In Colab\"/></a>"
      ]
    },
    {
      "cell_type": "markdown",
      "source": [
        "# 1. 정규 표현의 기본\n",
        "\n",
        "정규 표현식(Regular Expression, 줄여서 RE 또는 RegEx라고도 함)은 **검색 패턴을 형성하는 문자의 시퀀스**입니다. 검색 패턴이 주어진 문자열에 존재하는지 확인하는 데 사용됩니다."
      ],
      "metadata": {
        "id": "uegKinSspkSy"
      }
    },
    {
      "cell_type": "code",
      "execution_count": 1,
      "metadata": {
        "colab": {
          "base_uri": "https://localhost:8080/"
        },
        "id": "rmaE2pqapHHT",
        "outputId": "0f57e9f0-6fd3-42d3-8782-0a3fc0bbeebf"
      },
      "outputs": [
        {
          "output_type": "execute_result",
          "data": {
            "text/plain": [
              "True"
            ]
          },
          "metadata": {},
          "execution_count": 1
        }
      ],
      "source": [
        "text = \"My phone number is 765-464-9593. Call me!\"\n",
        "'765-464-9593' in text"
      ]
    },
    {
      "cell_type": "code",
      "source": [
        "import re"
      ],
      "metadata": {
        "id": "UiRFhuNzp2tc"
      },
      "execution_count": 2,
      "outputs": []
    },
    {
      "cell_type": "code",
      "source": [
        "pattern = 'phone'\n",
        "re.search (pattern, text)"
      ],
      "metadata": {
        "colab": {
          "base_uri": "https://localhost:8080/"
        },
        "id": "u1WhPwXDp4j9",
        "outputId": "6e14eb94-6bc3-478e-f4a9-1cf8cff914a3"
      },
      "execution_count": 3,
      "outputs": [
        {
          "output_type": "execute_result",
          "data": {
            "text/plain": [
              "<re.Match object; span=(3, 8), match='phone'>"
            ]
          },
          "metadata": {},
          "execution_count": 3
        }
      ]
    },
    {
      "cell_type": "code",
      "source": [
        "text2 = \"My phone is a new phone\"\n",
        "pattern = \"phone\"\n",
        "matches = re.search(pattern, text2)\n",
        "matches"
      ],
      "metadata": {
        "colab": {
          "base_uri": "https://localhost:8080/"
        },
        "id": "ozuhXaSUp-SZ",
        "outputId": "caca74d3-5a0f-4cb6-d023-e7e1462fb3b1"
      },
      "execution_count": 4,
      "outputs": [
        {
          "output_type": "execute_result",
          "data": {
            "text/plain": [
              "<re.Match object; span=(3, 8), match='phone'>"
            ]
          },
          "metadata": {},
          "execution_count": 4
        }
      ]
    },
    {
      "cell_type": "code",
      "source": [
        "matches = re.findall(pattern, text2)\n",
        "matches"
      ],
      "metadata": {
        "colab": {
          "base_uri": "https://localhost:8080/"
        },
        "id": "IuE_NUOLqLQ2",
        "outputId": "b77e9609-7422-44ec-861e-ef50164ca05b"
      },
      "execution_count": 5,
      "outputs": [
        {
          "output_type": "execute_result",
          "data": {
            "text/plain": [
              "['phone', 'phone']"
            ]
          },
          "metadata": {},
          "execution_count": 5
        }
      ]
    },
    {
      "cell_type": "markdown",
      "source": [
        "# 2. 패턴\n",
        "\n",
        "텍스트 문자열의 패턴을 찾는 정규 표현식 <br>\n",
        "예를들면,\n",
        "- 텍스트의 큰 문자열에서 **특정 단어의 대문자와 소문자**(예: woodchuck/ woodchuck)\n",
        "- **전화번호나 이메일 주소의 일반적인 형식**\n",
        "\n",
        "# 패턴의 문자 식별자\n",
        "\n",
        "<br>\n",
        "<table ><tr><th>Character</th><th>Description</th><th>Example Pattern Code</th><th >Exammple Match</th></tr>\n",
        "\n",
        "<tr ><td><span >\\d</span></td><td>A digit</td><td>file_\\d\\d</td><td>file_25</td></tr>\n",
        "\n",
        "<tr ><td><span >\\w</span></td><td>Alphanumeric</td><td>\\w-\\w\\w\\w</td><td>A-b_1</td></tr>\n",
        "\n",
        "<tr ><td><span >\\s</span></td><td>White space</td><td>a\\sb\\sc</td><td>a b c</td></tr>\n",
        "    \n",
        "<tr ><td><span >\\D</span></td><td>A non digit</td><td>\\D\\D\\D</td><td>ABC</td></tr>\n",
        "\n",
        "<tr ><td><span >\\W</span></td><td>Non-alphanumeric</td><td>\\W\\W\\W\\W\\W</td><td>*-+=)</td></tr>\n",
        "\n",
        "<tr ><td><span >\\S</span></td><td>Non-whitespace</td><td>\\S\\S\\S\\S</td><td>Yoyo</td></tr></table>"
      ],
      "metadata": {
        "id": "nx_fdOZ5qYXi"
      }
    },
    {
      "cell_type": "code",
      "source": [
        "text = \"My phone number is 765-464-9593. Call me!\"\n",
        "pattern = \"\\d\\d\\d-\\d\\d\\d-\\d\\d\\d\\d\"\n",
        "\n",
        "matches = re.findall (pattern, text)\n",
        "matches"
      ],
      "metadata": {
        "colab": {
          "base_uri": "https://localhost:8080/"
        },
        "id": "r0KmQe6gqk2o",
        "outputId": "c8dd8a8a-ecec-4a9a-8aa1-3eb46a125a53"
      },
      "execution_count": 6,
      "outputs": [
        {
          "output_type": "execute_result",
          "data": {
            "text/plain": [
              "['765-464-9593']"
            ]
          },
          "metadata": {},
          "execution_count": 6
        }
      ]
    },
    {
      "cell_type": "markdown",
      "source": [
        "## Quantifiers\n",
        "\n",
        "<br>\n",
        "<table ><tr><th>Character</th><th>Description</th><th>Example Pattern Code</th><th >Exammple Match</th></tr>\n",
        "\n",
        "<tr ><td><span >+</span></td><td>Occurs one or more times</td><td>\tVersion \\w-\\w+</td><td>Version A-b1_1</td></tr>\n",
        "\n",
        "<tr ><td><span >{3}</span></td><td>Occurs exactly 3 times</td><td>\\D{3}</td><td>abc</td></tr>\n",
        "\n",
        "\n",
        "\n",
        "<tr ><td><span >{2,4}</span></td><td>Occurs 2 to 4 times</td><td>\\d{2,4}</td><td>123</td></tr>\n",
        "\n",
        "\n",
        "\n",
        "<tr ><td><span >{3,}</span></td><td>Occurs 3 or more</td><td>\\w{3,}</td><td>anycharacters</td></tr>\n",
        "\n",
        "<tr ><td><span >\\*</span></td><td>Occurs zero or more times</td><td>A\\*B\\*C*</td><td>AAACC</td></tr>\n",
        "\n",
        "</table>"
      ],
      "metadata": {
        "id": "zhcgrWH8q4Yt"
      }
    },
    {
      "cell_type": "code",
      "source": [
        "text = \"My phone number is 765-464-9593. Call me!\"\n",
        "pattern = \"\\d{3}-\\d{3}-\\d{4}\"\n",
        "\n",
        "matches = re.findall(pattern, text)\n",
        "matches"
      ],
      "metadata": {
        "colab": {
          "base_uri": "https://localhost:8080/"
        },
        "id": "JYJhV1aIqxjC",
        "outputId": "aa4fba00-a1e1-484b-ec2f-eeea12a142ae"
      },
      "execution_count": 7,
      "outputs": [
        {
          "output_type": "execute_result",
          "data": {
            "text/plain": [
              "['765-464-9593']"
            ]
          },
          "metadata": {},
          "execution_count": 7
        }
      ]
    },
    {
      "cell_type": "markdown",
      "source": [
        "- 대괄호 안의 문자 [ ]"
      ],
      "metadata": {
        "id": "nYWthlbWrLg5"
      }
    },
    {
      "cell_type": "code",
      "source": [
        "text3 = \"\"\"Elephant comprises various species,\n",
        "including the African forest elephant and the Asian elephant\n",
        "\"\"\"\n",
        "matches = re.findall(\"[eE]lephant\",text3)\n",
        "matches"
      ],
      "metadata": {
        "colab": {
          "base_uri": "https://localhost:8080/"
        },
        "id": "gwsMYsnPrGWT",
        "outputId": "d014b3b6-b3fb-40de-ff57-ad0f5fb364fc"
      },
      "execution_count": 9,
      "outputs": [
        {
          "output_type": "execute_result",
          "data": {
            "text/plain": [
              "['Elephant', 'elephant', 'elephant']"
            ]
          },
          "metadata": {},
          "execution_count": 9
        }
      ]
    },
    {
      "cell_type": "code",
      "source": [
        "text4 = \"I ate 99 slices of pizza and 108 cookies\"\n",
        "matches = re.findall(\"[0-9]+\", text4)\n",
        "matches"
      ],
      "metadata": {
        "colab": {
          "base_uri": "https://localhost:8080/"
        },
        "id": "fJM0IjyNrPAo",
        "outputId": "c7105491-b08d-43c6-9664-2b1e18cf6e66"
      },
      "execution_count": 10,
      "outputs": [
        {
          "output_type": "execute_result",
          "data": {
            "text/plain": [
              "['99', '108']"
            ]
          },
          "metadata": {},
          "execution_count": 10
        }
      ]
    },
    {
      "cell_type": "code",
      "source": [
        "text5 = \"woodchuck is also called as groundhog\"\n",
        "matches = re.findall(\"woodchuck|groundhog\", text5)\n",
        "matches"
      ],
      "metadata": {
        "colab": {
          "base_uri": "https://localhost:8080/"
        },
        "id": "jJ2rD8pRreQn",
        "outputId": "d5af59d1-bd08-4d5d-9af9-016d20471481"
      },
      "execution_count": 11,
      "outputs": [
        {
          "output_type": "execute_result",
          "data": {
            "text/plain": [
              "['woodchuck', 'groundhog']"
            ]
          },
          "metadata": {},
          "execution_count": 11
        }
      ]
    },
    {
      "cell_type": "code",
      "source": [
        "text6 = \"there are 3 numbers 34 inside 5 this sentence.\"\n",
        "matches = re.findall(\"[^\\d+]+\", text6)\n",
        "matches"
      ],
      "metadata": {
        "colab": {
          "base_uri": "https://localhost:8080/"
        },
        "id": "BROWAwELri0I",
        "outputId": "dc7c3d39-fd83-4465-d98f-6b8446ca8d4e"
      },
      "execution_count": 12,
      "outputs": [
        {
          "output_type": "execute_result",
          "data": {
            "text/plain": [
              "['there are ', ' numbers ', ' inside ', ' this sentence.']"
            ]
          },
          "metadata": {},
          "execution_count": 12
        }
      ]
    },
    {
      "cell_type": "code",
      "source": [
        "text7 = \"This is a string! But it has punctuation. How can we remove it?\"\n",
        "matches = re.findall(\"[^!.?]+\", text7)\n",
        "matches"
      ],
      "metadata": {
        "colab": {
          "base_uri": "https://localhost:8080/"
        },
        "id": "PLcNmOFbrmfj",
        "outputId": "cb660604-de9b-4370-c45c-b457ed6f2ac9"
      },
      "execution_count": 14,
      "outputs": [
        {
          "output_type": "execute_result",
          "data": {
            "text/plain": [
              "['This is a string', ' But it has punctuation', ' How can we remove it']"
            ]
          },
          "metadata": {},
          "execution_count": 14
        }
      ]
    },
    {
      "cell_type": "markdown",
      "source": [
        "### 와일드카드 문자\n",
        "\n",
        "- '. ': \"와일드카드\"를 배치된 문자와  일치하는 위치로 사용합니다.\n",
        "- ' * ' : 0회 이상\n",
        "- ' + ': 1회 이상"
      ],
      "metadata": {
        "id": "ajia9hjhrzzp"
      }
    },
    {
      "cell_type": "code",
      "source": [
        "text8 = \"She decided to begin her journey, and she began to realize that the journey had just begun.\"\n",
        "matches = re.findall(\"beg.n\", text8)\n",
        "matches"
      ],
      "metadata": {
        "colab": {
          "base_uri": "https://localhost:8080/"
        },
        "id": "wQFVqXx4roUW",
        "outputId": "f2c2cad9-a13b-4197-97b8-9d17ca330d40"
      },
      "execution_count": 15,
      "outputs": [
        {
          "output_type": "execute_result",
          "data": {
            "text/plain": [
              "['begin', 'began', 'begun']"
            ]
          },
          "metadata": {},
          "execution_count": 15
        }
      ]
    },
    {
      "cell_type": "code",
      "source": [
        "text9 = \"Look at the cat in the hat that sat splat\"\n",
        "matches = re.findall(\".at\", text9)\n",
        "matches"
      ],
      "metadata": {
        "colab": {
          "base_uri": "https://localhost:8080/"
        },
        "id": "cMFNubJ6r4tp",
        "outputId": "a3d58c8e-3ca5-4fd8-e431-ad3c5b703120"
      },
      "execution_count": 17,
      "outputs": [
        {
          "output_type": "execute_result",
          "data": {
            "text/plain": [
              "[' at', 'cat', 'hat', 'hat', 'sat', 'lat']"
            ]
          },
          "metadata": {},
          "execution_count": 17
        }
      ]
    },
    {
      "cell_type": "code",
      "source": [
        "matches = re.findall(\"\\S*at\", text9)\n",
        "matches"
      ],
      "metadata": {
        "colab": {
          "base_uri": "https://localhost:8080/"
        },
        "id": "Zh0m4VMkr6pO",
        "outputId": "9113b152-4226-4be9-bcf3-3becf7993818"
      },
      "execution_count": 18,
      "outputs": [
        {
          "output_type": "execute_result",
          "data": {
            "text/plain": [
              "['at', 'cat', 'hat', 'that', 'sat', 'splat']"
            ]
          },
          "metadata": {},
          "execution_count": 18
        }
      ]
    },
    {
      "cell_type": "code",
      "source": [
        "matches = re.findall(\"\\S+at\", text9)\n",
        "matches"
      ],
      "metadata": {
        "colab": {
          "base_uri": "https://localhost:8080/"
        },
        "id": "XcxQH89Fr_jY",
        "outputId": "03c71785-bbae-48a1-cb89-c4f8142cd037"
      },
      "execution_count": 19,
      "outputs": [
        {
          "output_type": "execute_result",
          "data": {
            "text/plain": [
              "['cat', 'hat', 'that', 'sat', 'splat']"
            ]
          },
          "metadata": {},
          "execution_count": 19
        }
      ]
    },
    {
      "cell_type": "code",
      "source": [
        "# Remove punctuation\n",
        "text6 = \"there are 3 numbers 34 inside 5 this sentence.\"\n",
        "text7 = \"This is a string! But it has punctuation. How can we remove it?\"\n",
        "\n",
        "text6 = re.sub(\"[^a-zA-Z\\s]\", \"\", text6)\n",
        "print(text6)\n",
        "\n",
        "text7 = re.sub(\"[^a-zA-Z\\s]\", \"\", text7)\n",
        "print(text7)"
      ],
      "metadata": {
        "colab": {
          "base_uri": "https://localhost:8080/"
        },
        "id": "a0KgZKwqsB_k",
        "outputId": "c0e68820-c2fd-4346-8aba-f9f4b7a4491c"
      },
      "execution_count": 20,
      "outputs": [
        {
          "output_type": "stream",
          "name": "stdout",
          "text": [
            "there are  numbers  inside  this sentence\n",
            "This is a string But it has punctuation How can we remove it\n"
          ]
        }
      ]
    },
    {
      "cell_type": "code",
      "source": [
        "text8 = \"This is 3 string! But it 45 has punctuations. How 7 can we remove it?\"\n",
        "\n",
        "text8_a = re.sub(\"\\d+\", \"\", text8)\n",
        "text8_b = re.sub(\"[!.?]\", \"\", text8_a)\n",
        "print(text8_b)"
      ],
      "metadata": {
        "colab": {
          "base_uri": "https://localhost:8080/"
        },
        "id": "SH3tJYawsLNK",
        "outputId": "82c45076-22b4-4976-efea-912a792779ff"
      },
      "execution_count": 21,
      "outputs": [
        {
          "output_type": "stream",
          "name": "stdout",
          "text": [
            "This is  string But it  has punctuations How  can we remove it\n"
          ]
        }
      ]
    },
    {
      "cell_type": "code",
      "source": [],
      "metadata": {
        "id": "c9iFhMzBsOtz"
      },
      "execution_count": null,
      "outputs": []
    }
  ]
}
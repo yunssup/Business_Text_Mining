{
  "nbformat": 4,
  "nbformat_minor": 0,
  "metadata": {
    "colab": {
      "provenance": [],
      "authorship_tag": "ABX9TyNacpHvfoM/nHO3h2iVpAh+",
      "include_colab_link": true
    },
    "kernelspec": {
      "name": "python3",
      "display_name": "Python 3"
    },
    "language_info": {
      "name": "python"
    }
  },
  "cells": [
    {
      "cell_type": "markdown",
      "metadata": {
        "id": "view-in-github",
        "colab_type": "text"
      },
      "source": [
        "<a href=\"https://colab.research.google.com/github/yunssup/Business_Text_Mining/blob/main/TF_IDF.ipynb\" target=\"_parent\"><img src=\"https://colab.research.google.com/assets/colab-badge.svg\" alt=\"Open In Colab\"/></a>"
      ]
    },
    {
      "cell_type": "code",
      "execution_count": 2,
      "metadata": {
        "id": "DcfqchVWhwsH"
      },
      "outputs": [],
      "source": [
        "import spacy\n",
        "nlp = spacy.load('en_core_web_sm')"
      ]
    },
    {
      "cell_type": "code",
      "source": [
        "corpus = [\n",
        "    'The planet, Neptune, is the furthest planet from the sun',\n",
        "    'Jupiter is the largest planet',\n",
        "    'Mars is the fourth planet from the sun'\n",
        "]"
      ],
      "metadata": {
        "id": "C0rmaSvDiGC8"
      },
      "execution_count": 1,
      "outputs": []
    },
    {
      "cell_type": "code",
      "source": [
        "def preprocess(doc):\n",
        "    doc = nlp(doc)\n",
        "\n",
        "    preprocessed_tokens = []\n",
        "    for token in doc:\n",
        "        if token.is_punct or token.is_stop:\n",
        "            continue\n",
        "        else:\n",
        "            preprocessed_tokens.append(token.lemma_)\n",
        "    return \" \".join(preprocessed_tokens)"
      ],
      "metadata": {
        "id": "o-vHMhAniIMd"
      },
      "execution_count": 4,
      "outputs": []
    },
    {
      "cell_type": "code",
      "source": [
        "corpus_preprocessed = [preprocess(d) for d in corpus]\n",
        "print (corpus_preprocessed)"
      ],
      "metadata": {
        "colab": {
          "base_uri": "https://localhost:8080/"
        },
        "id": "mAde__ZviwqO",
        "outputId": "8c39ba1e-e856-4a5b-cba1-b8ccfc717d81"
      },
      "execution_count": 7,
      "outputs": [
        {
          "output_type": "stream",
          "name": "stdout",
          "text": [
            "['planet Neptune furth planet sun', 'Jupiter large planet', 'Mars fourth planet sun']\n"
          ]
        }
      ]
    },
    {
      "cell_type": "markdown",
      "source": [
        "## <font color=blue> 1. BOW (aka. Term Frequency) </font>\n",
        "\n",
        "## <font color=green> Scikit-learn's CountVectorizer Methods </font>\n",
        "\n",
        "<table>\n",
        "<tr><td>`fit(raw_documents[, y])`</td><td>Learn a vocabulary dictionary of all tokens in the raw documents.</td></tr>\n",
        "<tr><td>`transform(raw_documents)`</td><td>Transform documents to document-term matrix.</td></tr>\n",
        "<tr><td>`fit_transform(raw_documents[, y])`</td><td>Learn the vocabulary dictionary and return document-term matrix.</td></tr>\n",
        "<tr><td>`get_feature_names_out([input_features])`</td><td>Get output feature names for transformation.</td></tr>\n",
        "<tr><td>`vocabulary_`</td><td>A dictionary where keys are terms and values are indices in the feature matrix.</td></tr>\n",
        "\n",
        "</table>"
      ],
      "metadata": {
        "id": "pmr29W-ANjpQ"
      }
    },
    {
      "cell_type": "code",
      "source": [
        "from sklearn.feature_extraction.text import CountVectorizer\n",
        "\n",
        "cv = CountVectorizer()\n"
      ],
      "metadata": {
        "id": "jzoTM52kKt2X"
      },
      "execution_count": 10,
      "outputs": []
    },
    {
      "cell_type": "code",
      "source": [
        "corpus_cv = cv.fit_transform(corpus_preprocessed)\n",
        "corpus_cv"
      ],
      "metadata": {
        "colab": {
          "base_uri": "https://localhost:8080/"
        },
        "id": "_zUMfjovK7k-",
        "outputId": "a76a970b-4a66-4d7b-dfec-c4839b41f7b2"
      },
      "execution_count": 11,
      "outputs": [
        {
          "output_type": "execute_result",
          "data": {
            "text/plain": [
              "<3x8 sparse matrix of type '<class 'numpy.int64'>'\n",
              "\twith 11 stored elements in Compressed Sparse Row format>"
            ]
          },
          "metadata": {},
          "execution_count": 11
        }
      ]
    },
    {
      "cell_type": "code",
      "source": [
        "print(corpus_cv.toarray())"
      ],
      "metadata": {
        "colab": {
          "base_uri": "https://localhost:8080/"
        },
        "id": "2zNQ_x2kjtO0",
        "outputId": "9d88f0f3-6f35-431c-8834-71d697d55aa7"
      },
      "execution_count": 14,
      "outputs": [
        {
          "output_type": "stream",
          "name": "stdout",
          "text": [
            "[[0 1 0 0 0 1 2 1]\n",
            " [0 0 1 1 0 0 1 0]\n",
            " [1 0 0 0 1 0 1 1]]\n"
          ]
        }
      ]
    },
    {
      "cell_type": "code",
      "source": [
        "cv.get_feature_names_out()"
      ],
      "metadata": {
        "colab": {
          "base_uri": "https://localhost:8080/"
        },
        "id": "tSzkat5HMDA4",
        "outputId": "4aac0c36-41b7-4b7a-ab22-55cc2afd2571"
      },
      "execution_count": 15,
      "outputs": [
        {
          "output_type": "execute_result",
          "data": {
            "text/plain": [
              "array(['fourth', 'furth', 'jupiter', 'large', 'mars', 'neptune', 'planet',\n",
              "       'sun'], dtype=object)"
            ]
          },
          "metadata": {},
          "execution_count": 15
        }
      ]
    },
    {
      "cell_type": "code",
      "source": [
        "# Create Dataframe\n",
        "import pandas as pd\n",
        "\n",
        "df_bow = pd.DataFrame(corpus_cv.toarray(), columns = cv.get_feature_names_out())\n",
        "print(df_bow)"
      ],
      "metadata": {
        "colab": {
          "base_uri": "https://localhost:8080/"
        },
        "id": "8Gn_HsTaMJ3U",
        "outputId": "68ae4f31-e702-4622-f02d-6e9a5acbdcf2"
      },
      "execution_count": 18,
      "outputs": [
        {
          "output_type": "stream",
          "name": "stdout",
          "text": [
            "   fourth  furth  jupiter  large  mars  neptune  planet  sun\n",
            "0       0      1        0      0     0        1       2    1\n",
            "1       0      0        1      1     0        0       1    0\n",
            "2       1      0        0      0     1        0       1    1\n"
          ]
        }
      ]
    },
    {
      "cell_type": "code",
      "source": [
        "df_bow = df_bow.transpose()\n",
        "print(df_bow)"
      ],
      "metadata": {
        "colab": {
          "base_uri": "https://localhost:8080/"
        },
        "id": "z8YzZj2dMTg9",
        "outputId": "f34a5416-e73d-4e88-b3c1-e4363cf940cf"
      },
      "execution_count": 19,
      "outputs": [
        {
          "output_type": "stream",
          "name": "stdout",
          "text": [
            "         0  1  2\n",
            "fourth   0  0  1\n",
            "furth    1  0  0\n",
            "jupiter  0  1  0\n",
            "large    0  1  0\n",
            "mars     0  0  1\n",
            "neptune  1  0  0\n",
            "planet   2  1  1\n",
            "sun      1  0  1\n"
          ]
        }
      ]
    },
    {
      "cell_type": "code",
      "source": [
        "df_bow.columns = ['BOW-Doc{}'.format(i+1) for i in range(len(corpus_preprocessed))]\n",
        "print(df_bow)"
      ],
      "metadata": {
        "colab": {
          "base_uri": "https://localhost:8080/"
        },
        "id": "fJqBm24hM0ih",
        "outputId": "3bd0daf7-d1bd-4c71-9c4b-8cc3ea51dfdd"
      },
      "execution_count": 21,
      "outputs": [
        {
          "output_type": "stream",
          "name": "stdout",
          "text": [
            "         BOW-Doc1  BOW-Doc2  BOW-Doc3\n",
            "fourth          0         0         1\n",
            "furth           1         0         0\n",
            "jupiter         0         1         0\n",
            "large           0         1         0\n",
            "mars            0         0         1\n",
            "neptune         1         0         0\n",
            "planet          2         1         1\n",
            "sun             1         0         1\n"
          ]
        }
      ]
    },
    {
      "cell_type": "markdown",
      "source": [
        "---\n",
        "## <font color=blue> 2. TF-IDF </font>"
      ],
      "metadata": {
        "id": "y4bC8HkmNrqr"
      }
    },
    {
      "cell_type": "code",
      "source": [
        "from sklearn.feature_extraction.text import TfidfVectorizer\n",
        "\n",
        "vectorizer = TfidfVectorizer()"
      ],
      "metadata": {
        "id": "aqMB5YG3NQVU"
      },
      "execution_count": 27,
      "outputs": []
    },
    {
      "cell_type": "code",
      "source": [
        "corpus_v = vectorizer.fit_transform(corpus_preprocessed)\n",
        "corpus_v"
      ],
      "metadata": {
        "colab": {
          "base_uri": "https://localhost:8080/"
        },
        "id": "YCNgmxDWOCis",
        "outputId": "66880d8e-a924-45a1-9998-956160b4a046"
      },
      "execution_count": 29,
      "outputs": [
        {
          "output_type": "execute_result",
          "data": {
            "text/plain": [
              "<3x8 sparse matrix of type '<class 'numpy.float64'>'\n",
              "\twith 11 stored elements in Compressed Sparse Row format>"
            ]
          },
          "metadata": {},
          "execution_count": 29
        }
      ]
    },
    {
      "cell_type": "code",
      "source": [
        "tfidf_score = corpus_v.toarray()\n",
        "print(tfidf_score)"
      ],
      "metadata": {
        "colab": {
          "base_uri": "https://localhost:8080/"
        },
        "id": "guDFzzHeOTSO",
        "outputId": "e780a059-e544-4fcd-abf2-eef29423ca9e"
      },
      "execution_count": 49,
      "outputs": [
        {
          "output_type": "stream",
          "name": "stdout",
          "text": [
            "[[0.         0.50165133 0.         0.         0.         0.50165133\n",
            "  0.59256672 0.38151877]\n",
            " [0.         0.         0.65249088 0.65249088 0.         0.\n",
            "  0.38537163 0.        ]\n",
            " [0.5844829  0.         0.         0.         0.5844829  0.\n",
            "  0.34520502 0.44451431]]\n"
          ]
        }
      ]
    },
    {
      "cell_type": "code",
      "source": [
        "import pandas as pd\n",
        "\n",
        "df_tfidf = pd.DataFrame(tfidf_score, columns = vectorizer.get_feature_names_out())\n",
        "print(df_tfidf)"
      ],
      "metadata": {
        "colab": {
          "base_uri": "https://localhost:8080/"
        },
        "id": "jJDiCD6RPCUH",
        "outputId": "0817a844-c82b-4c6d-b156-2477c4797caf"
      },
      "execution_count": 50,
      "outputs": [
        {
          "output_type": "stream",
          "name": "stdout",
          "text": [
            "     fourth     furth   jupiter     large      mars   neptune    planet  \\\n",
            "0  0.000000  0.501651  0.000000  0.000000  0.000000  0.501651  0.592567   \n",
            "1  0.000000  0.000000  0.652491  0.652491  0.000000  0.000000  0.385372   \n",
            "2  0.584483  0.000000  0.000000  0.000000  0.584483  0.000000  0.345205   \n",
            "\n",
            "        sun  \n",
            "0  0.381519  \n",
            "1  0.000000  \n",
            "2  0.444514  \n"
          ]
        }
      ]
    },
    {
      "cell_type": "code",
      "source": [
        "df_tfidf = df_tfidf.transpose()\n",
        "print(df_tfidf)"
      ],
      "metadata": {
        "colab": {
          "base_uri": "https://localhost:8080/"
        },
        "id": "H8KyYUl5Pib2",
        "outputId": "2c1a8e62-2552-43f9-93b5-f58ab95f56f1"
      },
      "execution_count": 51,
      "outputs": [
        {
          "output_type": "stream",
          "name": "stdout",
          "text": [
            "                0         1         2\n",
            "fourth   0.000000  0.000000  0.584483\n",
            "furth    0.501651  0.000000  0.000000\n",
            "jupiter  0.000000  0.652491  0.000000\n",
            "large    0.000000  0.652491  0.000000\n",
            "mars     0.000000  0.000000  0.584483\n",
            "neptune  0.501651  0.000000  0.000000\n",
            "planet   0.592567  0.385372  0.345205\n",
            "sun      0.381519  0.000000  0.444514\n"
          ]
        }
      ]
    },
    {
      "cell_type": "code",
      "source": [
        "df_tfidf = df_tfidf.transpose()\n",
        "df_tfidf.columns = ['Tfidf-Doc{}'.format(i+1) for i in range(len(corpus_preprocessed))]\n",
        "print(df_tfidf)"
      ],
      "metadata": {
        "colab": {
          "base_uri": "https://localhost:8080/"
        },
        "id": "qgXOeJMVPtYv",
        "outputId": "7f3ecd45-8844-45c3-aa75-7b3bb5c2b0f1"
      },
      "execution_count": 58,
      "outputs": [
        {
          "output_type": "stream",
          "name": "stdout",
          "text": [
            "         Tfidf-Doc1  Tfidf-Doc2  Tfidf-Doc3\n",
            "fourth     0.000000    0.000000    0.584483\n",
            "furth      0.501651    0.000000    0.000000\n",
            "jupiter    0.000000    0.652491    0.000000\n",
            "large      0.000000    0.652491    0.000000\n",
            "mars       0.000000    0.000000    0.584483\n",
            "neptune    0.501651    0.000000    0.000000\n",
            "planet     0.592567    0.385372    0.345205\n",
            "sun        0.381519    0.000000    0.444514\n"
          ]
        }
      ]
    },
    {
      "cell_type": "code",
      "source": [
        "# Merge Dataframes for comparison\n",
        "df_merged = df_bow.join(df_tfidf)\n",
        "print(df_merged)"
      ],
      "metadata": {
        "colab": {
          "base_uri": "https://localhost:8080/"
        },
        "id": "Gtqtl_e7QBIo",
        "outputId": "d8a5c8ec-d51d-482c-a645-1d46088f9a48"
      },
      "execution_count": 53,
      "outputs": [
        {
          "output_type": "stream",
          "name": "stdout",
          "text": [
            "         BOW-Doc1  BOW-Doc2  BOW-Doc3         0         1         2\n",
            "fourth          0         0         1  0.000000  0.000000  0.584483\n",
            "furth           1         0         0  0.501651  0.000000  0.000000\n",
            "jupiter         0         1         0  0.000000  0.652491  0.000000\n",
            "large           0         1         0  0.000000  0.652491  0.000000\n",
            "mars            0         0         1  0.000000  0.000000  0.584483\n",
            "neptune         1         0         0  0.501651  0.000000  0.000000\n",
            "planet          2         1         1  0.592567  0.385372  0.345205\n",
            "sun             1         0         1  0.381519  0.000000  0.444514\n"
          ]
        }
      ]
    },
    {
      "cell_type": "code",
      "source": [
        "vectorizer.vocabulary_"
      ],
      "metadata": {
        "colab": {
          "base_uri": "https://localhost:8080/"
        },
        "id": "9B5AQ7vNQKyT",
        "outputId": "fbff6b78-1e9d-4064-9165-515b38f1080b"
      },
      "execution_count": 40,
      "outputs": [
        {
          "output_type": "execute_result",
          "data": {
            "text/plain": [
              "{'planet': 6,\n",
              " 'neptune': 5,\n",
              " 'furth': 1,\n",
              " 'sun': 7,\n",
              " 'jupiter': 2,\n",
              " 'large': 3,\n",
              " 'mars': 4,\n",
              " 'fourth': 0}"
            ]
          },
          "metadata": {},
          "execution_count": 40
        }
      ]
    },
    {
      "cell_type": "code",
      "source": [
        "# Get index number of term\n",
        "vectorizer.vocabulary_.get('planet')"
      ],
      "metadata": {
        "colab": {
          "base_uri": "https://localhost:8080/"
        },
        "id": "GQxRoThFQpOU",
        "outputId": "89adc658-e5a0-4da7-ffe1-46797cc4917c"
      },
      "execution_count": 46,
      "outputs": [
        {
          "output_type": "execute_result",
          "data": {
            "text/plain": [
              "6"
            ]
          },
          "metadata": {},
          "execution_count": 46
        }
      ]
    },
    {
      "cell_type": "code",
      "source": [
        "# Get idf score of term\n",
        "vectorizer.idf_[6]"
      ],
      "metadata": {
        "colab": {
          "base_uri": "https://localhost:8080/"
        },
        "id": "97jw-6k0Q9dZ",
        "outputId": "69a1ef10-40b7-4cc2-ff3c-fd77095cc05f"
      },
      "execution_count": 47,
      "outputs": [
        {
          "output_type": "execute_result",
          "data": {
            "text/plain": [
              "1.0"
            ]
          },
          "metadata": {},
          "execution_count": 47
        }
      ]
    },
    {
      "cell_type": "code",
      "source": [
        "# Get idf score of terms\n",
        "terms = vectorizer.get_feature_names_out()\n",
        "\n",
        "for term in terms:\n",
        "    index = vectorizer.vocabulary_.get(term)\n",
        "    print(f'{term:{10}} {vectorizer.idf_[index]}')"
      ],
      "metadata": {
        "colab": {
          "base_uri": "https://localhost:8080/"
        },
        "id": "7qw7nGGNRBBr",
        "outputId": "180b0f87-69ae-4813-a4ca-96105d552ccb"
      },
      "execution_count": 57,
      "outputs": [
        {
          "output_type": "stream",
          "name": "stdout",
          "text": [
            "fourth     1.6931471805599454\n",
            "furth      1.6931471805599454\n",
            "jupiter    1.6931471805599454\n",
            "large      1.6931471805599454\n",
            "mars       1.6931471805599454\n",
            "neptune    1.6931471805599454\n",
            "planet     1.0\n",
            "sun        1.2876820724517808\n"
          ]
        }
      ]
    },
    {
      "cell_type": "code",
      "source": [],
      "metadata": {
        "id": "iwTp-rFdRw_q"
      },
      "execution_count": null,
      "outputs": []
    }
  ]
}
{
  "nbformat": 4,
  "nbformat_minor": 0,
  "metadata": {
    "colab": {
      "provenance": [],
      "authorship_tag": "ABX9TyOo4PQUxKQJHEesMYb5vRxH",
      "include_colab_link": true
    },
    "kernelspec": {
      "name": "python3",
      "display_name": "Python 3"
    },
    "language_info": {
      "name": "python"
    }
  },
  "cells": [
    {
      "cell_type": "markdown",
      "metadata": {
        "id": "view-in-github",
        "colab_type": "text"
      },
      "source": [
        "<a href=\"https://colab.research.google.com/github/yunssup/Business_Text_Mining/blob/main/TextNormalization.ipynb\" target=\"_parent\"><img src=\"https://colab.research.google.com/assets/colab-badge.svg\" alt=\"Open In Colab\"/></a>"
      ]
    },
    {
      "cell_type": "markdown",
      "source": [
        "# Stemmer\n",
        "1. Porter's stemmer\n",
        "2. Snowball stemmer"
      ],
      "metadata": {
        "id": "VQmRHWqxDdIn"
      }
    },
    {
      "cell_type": "code",
      "source": [
        "import nltk\n",
        "from nltk.stem.porter import PorterStemmer\n",
        "porter_stemmer = PorterStemmer()"
      ],
      "metadata": {
        "id": "zEbNI3hVDfjS"
      },
      "execution_count": 2,
      "outputs": []
    },
    {
      "cell_type": "code",
      "source": [
        "words = ['runs','ran','running','runner','goes','went','mice']"
      ],
      "metadata": {
        "id": "bDR4it0tDocP"
      },
      "execution_count": 3,
      "outputs": []
    },
    {
      "cell_type": "code",
      "source": [
        "for word in words:\n",
        "  print (word + '--->' +porter_stemmer.stem(word))"
      ],
      "metadata": {
        "colab": {
          "base_uri": "https://localhost:8080/"
        },
        "id": "28CkhEjoD7HU",
        "outputId": "076150b0-5b30-49f8-e671-f5299a2ae8a9"
      },
      "execution_count": 4,
      "outputs": [
        {
          "output_type": "stream",
          "name": "stdout",
          "text": [
            "runs--->run\n",
            "ran--->ran\n",
            "running--->run\n",
            "runner--->runner\n",
            "goes--->goe\n",
            "went--->went\n",
            "mice--->mice\n"
          ]
        }
      ]
    },
    {
      "cell_type": "code",
      "source": [
        "words2 = ['computer', 'organization', 'easily', 'fairly', 'friendly']"
      ],
      "metadata": {
        "id": "jDh_yeoGEM_C"
      },
      "execution_count": 5,
      "outputs": []
    },
    {
      "cell_type": "code",
      "source": [
        "for word in words2:\n",
        "  print (word + '--->' +porter_stemmer.stem(word))"
      ],
      "metadata": {
        "colab": {
          "base_uri": "https://localhost:8080/"
        },
        "id": "ETcvCUyMEcWn",
        "outputId": "103b8b32-01ad-47a8-d344-9aeb35f3ac30"
      },
      "execution_count": 6,
      "outputs": [
        {
          "output_type": "stream",
          "name": "stdout",
          "text": [
            "computer--->comput\n",
            "organization--->organ\n",
            "easily--->easili\n",
            "fairly--->fairli\n",
            "friendly--->friendli\n"
          ]
        }
      ]
    },
    {
      "cell_type": "code",
      "source": [
        "words3 = ['generous', 'generously', 'generate', 'generation']"
      ],
      "metadata": {
        "id": "BYBWv4zhElOg"
      },
      "execution_count": 7,
      "outputs": []
    },
    {
      "cell_type": "code",
      "source": [
        "for word in words2:\n",
        "  print (word + '--->' +porter_stemmer.stem(word))"
      ],
      "metadata": {
        "colab": {
          "base_uri": "https://localhost:8080/"
        },
        "id": "bxspO8i5E7r5",
        "outputId": "882b63af-f289-468c-c3c9-a4d1e7425762"
      },
      "execution_count": 21,
      "outputs": [
        {
          "output_type": "stream",
          "name": "stdout",
          "text": [
            "computer--->comput\n",
            "organization--->organ\n",
            "easily--->easili\n",
            "fairly--->fairli\n",
            "friendly--->friendli\n"
          ]
        }
      ]
    },
    {
      "cell_type": "markdown",
      "source": [
        "# Snowball stemmer"
      ],
      "metadata": {
        "id": "5N4cB3LeFUNo"
      }
    },
    {
      "cell_type": "code",
      "source": [
        "from nltk.stem.snowball import SnowballStemmer\n",
        "sb_stemmer = SnowballStemmer(language='english')"
      ],
      "metadata": {
        "id": "TfbJDiWXE9Ph"
      },
      "execution_count": 12,
      "outputs": []
    },
    {
      "cell_type": "code",
      "source": [
        "words = ['runs','ran','running','runner','goes','went','mice']\n",
        "\n",
        "for word in words:\n",
        "  print (word + '--->' +sb_stemmer.stem(word))"
      ],
      "metadata": {
        "colab": {
          "base_uri": "https://localhost:8080/"
        },
        "id": "ZVLhjhUYFhPW",
        "outputId": "76629610-e46f-4cf5-cf9a-bdbea805f0bb"
      },
      "execution_count": 14,
      "outputs": [
        {
          "output_type": "stream",
          "name": "stdout",
          "text": [
            "runs--->run\n",
            "ran--->ran\n",
            "running--->run\n",
            "runner--->runner\n",
            "goes--->goe\n",
            "went--->went\n",
            "mice--->mice\n"
          ]
        }
      ]
    },
    {
      "cell_type": "code",
      "source": [
        "words2 = ['computer', 'organization', 'easily', 'fairly', 'friendly']\n",
        "\n",
        "for word in words2:\n",
        "  print (word + '--->' +sb_stemmer.stem(word))"
      ],
      "metadata": {
        "colab": {
          "base_uri": "https://localhost:8080/"
        },
        "id": "RbpspznxFx5G",
        "outputId": "01dfa445-e065-489a-9ceb-dec948093a69"
      },
      "execution_count": 20,
      "outputs": [
        {
          "output_type": "stream",
          "name": "stdout",
          "text": [
            "computer--->comput\n",
            "organization--->organ\n",
            "easily--->easili\n",
            "fairly--->fair\n",
            "friendly--->friend\n"
          ]
        }
      ]
    },
    {
      "cell_type": "code",
      "source": [
        "words3 = ['generous', 'generously', 'generate', 'generation']\n",
        "\n",
        "for word in words3:\n",
        "  print (word + '--->' +sb_stemmer.stem(word))"
      ],
      "metadata": {
        "colab": {
          "base_uri": "https://localhost:8080/"
        },
        "id": "U8z7lh5dGLK3",
        "outputId": "0be58ef4-195a-4f4e-c8f9-102d09f3d7c4"
      },
      "execution_count": 24,
      "outputs": [
        {
          "output_type": "stream",
          "name": "stdout",
          "text": [
            "generous--->generous\n",
            "generously--->generous\n",
            "generate--->generat\n",
            "generation--->generat\n"
          ]
        }
      ]
    },
    {
      "cell_type": "code",
      "source": [
        "phrase = 'I am meeting him tomorrow at the meeting'\n",
        "for word in phrase.split():\n",
        "  print (word + '--->'+porter_stemmer.stem(word))"
      ],
      "metadata": {
        "colab": {
          "base_uri": "https://localhost:8080/"
        },
        "id": "ARJxPSLnGjFi",
        "outputId": "bc2111c5-573c-43f0-87ff-3949215bc87c"
      },
      "execution_count": 26,
      "outputs": [
        {
          "output_type": "stream",
          "name": "stdout",
          "text": [
            "I--->i\n",
            "am--->am\n",
            "meeting--->meet\n",
            "him--->him\n",
            "tomorrow--->tomorrow\n",
            "at--->at\n",
            "the--->the\n",
            "meeting--->meet\n"
          ]
        }
      ]
    },
    {
      "cell_type": "markdown",
      "source": [
        "# <font color=blue>2. Lemmatization</font>"
      ],
      "metadata": {
        "id": "ACX4cL_OH2uI"
      }
    },
    {
      "cell_type": "code",
      "source": [
        "import spacy\n",
        "\n",
        "nlp = spacy.load('en_core_web_sm')"
      ],
      "metadata": {
        "id": "034opNjzHFN6"
      },
      "execution_count": 27,
      "outputs": []
    },
    {
      "cell_type": "code",
      "source": [
        "words = ['runs','ran','running','runner','goes','went','mice']"
      ],
      "metadata": {
        "id": "xLGpxmEMH-Ya"
      },
      "execution_count": 28,
      "outputs": []
    },
    {
      "cell_type": "code",
      "source": [
        "words = 'runs ran running runner goes went mice'"
      ],
      "metadata": {
        "id": "6UvIHIbSICsG"
      },
      "execution_count": 29,
      "outputs": []
    },
    {
      "cell_type": "code",
      "source": [
        "doc = nlp(words)\n",
        "for token in doc:\n",
        "    print(token.text, '\\t', token.lemma_, '\\t', token.lemma, '\\t', token.pos_)"
      ],
      "metadata": {
        "colab": {
          "base_uri": "https://localhost:8080/"
        },
        "id": "ztrXq_lOIVjz",
        "outputId": "7325ca47-d92f-483e-f9f5-ff3d6d529263"
      },
      "execution_count": 30,
      "outputs": [
        {
          "output_type": "stream",
          "name": "stdout",
          "text": [
            "runs \t run \t 12767647472892411841 \t NOUN\n",
            "ran \t run \t 12767647472892411841 \t VERB\n",
            "running \t run \t 12767647472892411841 \t VERB\n",
            "runner \t runner \t 12640964157389618806 \t NOUN\n",
            "goes \t go \t 8004577259940138793 \t VERB\n",
            "went \t go \t 8004577259940138793 \t VERB\n",
            "mice \t mouse \t 1384165645700560590 \t NOUN\n"
          ]
        }
      ]
    },
    {
      "cell_type": "code",
      "source": [
        "words2 = 'computer organization easily fairly friendly'\n",
        "doc = nlp(words2)\n",
        "for token in doc :\n",
        "    print(token.text, '\\t', token.lemma_, '\\t', token.lemma, '\\t', token.pos_)"
      ],
      "metadata": {
        "colab": {
          "base_uri": "https://localhost:8080/"
        },
        "id": "TreCPpsyIdKp",
        "outputId": "0c28b1f5-61d2-450b-f9de-7e89b6c62f56"
      },
      "execution_count": 31,
      "outputs": [
        {
          "output_type": "stream",
          "name": "stdout",
          "text": [
            "computer \t computer \t 4912942957612137283 \t NOUN\n",
            "organization \t organization \t 15435089905045195647 \t NOUN\n",
            "easily \t easily \t 8007658219579238015 \t ADV\n",
            "fairly \t fairly \t 17576046047103189829 \t ADV\n",
            "friendly \t friendly \t 12034322203066787430 \t ADJ\n"
          ]
        }
      ]
    },
    {
      "cell_type": "code",
      "source": [
        "words2 = 'computer organization easily fairly friendly'\n",
        "doc = nlp(words2)\n",
        "for token in doc :\n",
        "    print(f'{token.text:{15}} {token.lemma_:{15}} {token.lemma:<{20}} {token.pos_}')"
      ],
      "metadata": {
        "colab": {
          "base_uri": "https://localhost:8080/"
        },
        "id": "HGlr--L5Jmk3",
        "outputId": "536b038f-84fb-4aa6-d04a-94f5dac566f7"
      },
      "execution_count": 35,
      "outputs": [
        {
          "output_type": "stream",
          "name": "stdout",
          "text": [
            "computer        computer        4912942957612137283  NOUN\n",
            "organization    organization    15435089905045195647 NOUN\n",
            "easily          easily          8007658219579238015  ADV\n",
            "fairly          fairly          17576046047103189829 ADV\n",
            "friendly        friendly        12034322203066787430 ADJ\n"
          ]
        }
      ]
    },
    {
      "cell_type": "code",
      "source": [
        "words3 = 'generous generously generate generation'\n",
        "doc = nlp(words3)\n",
        "for token in doc :\n",
        "    print(f'{token.text:{15}} {token.lemma_:{15}} {token.lemma:<{20}} {token.pos_}')"
      ],
      "metadata": {
        "colab": {
          "base_uri": "https://localhost:8080/"
        },
        "id": "VozICnzDKG6U",
        "outputId": "20f6de8e-7963-41c8-8396-b12a0fb0bd70"
      },
      "execution_count": 36,
      "outputs": [
        {
          "output_type": "stream",
          "name": "stdout",
          "text": [
            "generous        generous        12333698124728187681 ADJ\n",
            "generously      generously      1539093411080084076  ADV\n",
            "generate        generate        17214151181767158707 VERB\n",
            "generation      generation      12757012465390741750 NOUN\n"
          ]
        }
      ]
    },
    {
      "cell_type": "code",
      "source": [
        "phrase = 'I am meeting him tomorrow at the meeting'\n",
        "for word in phrase.split():\n",
        "  print (word + '--->'+porter_stemmer.stem(word))"
      ],
      "metadata": {
        "colab": {
          "base_uri": "https://localhost:8080/"
        },
        "id": "IndiD9a8KlCo",
        "outputId": "1af0694c-2d14-4a6c-861d-9513f4bf1fe8"
      },
      "execution_count": 37,
      "outputs": [
        {
          "output_type": "stream",
          "name": "stdout",
          "text": [
            "I--->i\n",
            "am--->am\n",
            "meeting--->meet\n",
            "him--->him\n",
            "tomorrow--->tomorrow\n",
            "at--->at\n",
            "the--->the\n",
            "meeting--->meet\n"
          ]
        }
      ]
    },
    {
      "cell_type": "code",
      "source": [
        "phrase = 'I am meeting him tomorrow at the meeting'\n",
        "doc = nlp(phrase)\n",
        "for token in doc :\n",
        "    print(f'{token.text:{15}} {token.lemma_:{15}} {token.lemma:<{20}} {token.pos_}')"
      ],
      "metadata": {
        "colab": {
          "base_uri": "https://localhost:8080/"
        },
        "id": "gjjrK8LgLVIG",
        "outputId": "129d350c-5433-4f33-f713-f7f1ba335b5a"
      },
      "execution_count": 39,
      "outputs": [
        {
          "output_type": "stream",
          "name": "stdout",
          "text": [
            "I               I               4690420944186131903  PRON\n",
            "am              be              10382539506755952630 AUX\n",
            "meeting         meet            6880656908171229526  VERB\n",
            "him             he              1655312771067108281  PRON\n",
            "tomorrow        tomorrow        3573583789758258062  NOUN\n",
            "at              at              11667289587015813222 ADP\n",
            "the             the             7425985699627899538  DET\n",
            "meeting         meeting         14798207169164081740 NOUN\n"
          ]
        }
      ]
    },
    {
      "cell_type": "markdown",
      "source": [
        "___\n",
        "\n",
        "# <font color=blue> Exercise. </font>\n",
        "\n",
        "<b> ex 1. </b> love, loves, loved, loving <br>\n",
        "<b> ex 2. </b> innovation, innovations, innovate, innovates, innovative"
      ],
      "metadata": {
        "id": "1LORLm_3LwPU"
      }
    },
    {
      "cell_type": "code",
      "source": [
        "words1 = ['love', 'loves', 'loved', 'loving']\n",
        "for word in words1:\n",
        "  print(word + '--->'+porter_stemmer.stem(word))"
      ],
      "metadata": {
        "colab": {
          "base_uri": "https://localhost:8080/"
        },
        "id": "rhhC3gZyLlDv",
        "outputId": "a2c0ffec-5644-4b3a-ae5f-fb4141dd2c26"
      },
      "execution_count": 44,
      "outputs": [
        {
          "output_type": "stream",
          "name": "stdout",
          "text": [
            "love--->love\n",
            "loves--->love\n",
            "loved--->love\n",
            "loving--->love\n"
          ]
        }
      ]
    },
    {
      "cell_type": "code",
      "source": [
        "words1 = 'love loved loves loving'\n",
        "words1 = nlp(words1)\n",
        "\n",
        "for token in words1:\n",
        "    print(f'{token.text:{15}} {token.lemma_:{15}} {token.lemma:<{20}} {token.pos_}')"
      ],
      "metadata": {
        "colab": {
          "base_uri": "https://localhost:8080/"
        },
        "id": "pWkZDeIPMEIV",
        "outputId": "995a616e-b161-4895-f0f9-ab1b3db174fe"
      },
      "execution_count": 50,
      "outputs": [
        {
          "output_type": "stream",
          "name": "stdout",
          "text": [
            "love            love            3702023516439754181  NOUN\n",
            "loved           love            3702023516439754181  VERB\n",
            "loves           love            3702023516439754181  VERB\n",
            "loving          love            3702023516439754181  VERB\n"
          ]
        }
      ]
    },
    {
      "cell_type": "code",
      "source": [
        "words2 = ['innovation', 'innovations', 'innovate', 'innovates', 'innovative']\n",
        "for word in words2:\n",
        "  print(word + '--->'+porter_stemmer.stem(word))"
      ],
      "metadata": {
        "colab": {
          "base_uri": "https://localhost:8080/"
        },
        "id": "icWEBpwmL3UK",
        "outputId": "0ab9a823-e04a-4966-d3cf-9fc2d287f9f8"
      },
      "execution_count": 43,
      "outputs": [
        {
          "output_type": "stream",
          "name": "stdout",
          "text": [
            "innovation--->innov\n",
            "innovations--->innov\n",
            "innovate--->innov\n",
            "innovates--->innov\n",
            "innovative--->innov\n"
          ]
        }
      ]
    },
    {
      "cell_type": "code",
      "source": [
        "words2 = 'innovation innovations innovate innovates innvative'\n",
        "words2 = nlp(words2)\n",
        "\n",
        "for token in words2:\n",
        "    print(f'{token.text:{15}} {token.lemma_:{15}} {token.lemma:<{25}} {token.pos_}')"
      ],
      "metadata": {
        "colab": {
          "base_uri": "https://localhost:8080/"
        },
        "id": "YFELAsAOMCC4",
        "outputId": "fc201a86-cb75-4630-c4e4-1ea934e4c66f"
      },
      "execution_count": 48,
      "outputs": [
        {
          "output_type": "stream",
          "name": "stdout",
          "text": [
            "innovation      innovation      5796480141728035019       NOUN\n",
            "innovations     innovation      5796480141728035019       NOUN\n",
            "innovate        innovate        8029455976695103252       VERB\n",
            "innovates       innovate        8029455976695103252       VERB\n",
            "innvative       innvative       16885954725189289026      ADJ\n"
          ]
        }
      ]
    },
    {
      "cell_type": "code",
      "source": [],
      "metadata": {
        "id": "uSDAkd_jMWxZ"
      },
      "execution_count": null,
      "outputs": []
    }
  ]
}